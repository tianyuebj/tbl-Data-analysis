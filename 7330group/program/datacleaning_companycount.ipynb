{
 "cells": [
  {
   "cell_type": "code",
   "execution_count": 6,
   "metadata": {},
   "outputs": [],
   "source": [
    "import pandas as pd \n",
    "import numpy as np\n",
    "import re\n",
    "import matplotlib.pyplot as plt\n",
    "import seaborn as sns"
   ]
  },
  {
   "cell_type": "code",
   "execution_count": 7,
   "metadata": {},
   "outputs": [],
   "source": [
    "%matplotlib inline"
   ]
  },
  {
   "cell_type": "code",
   "execution_count": 8,
   "metadata": {
    "scrolled": true
   },
   "outputs": [
    {
     "data": {
      "text/html": [
       "<div>\n",
       "<style scoped>\n",
       "    .dataframe tbody tr th:only-of-type {\n",
       "        vertical-align: middle;\n",
       "    }\n",
       "\n",
       "    .dataframe tbody tr th {\n",
       "        vertical-align: top;\n",
       "    }\n",
       "\n",
       "    .dataframe thead th {\n",
       "        text-align: right;\n",
       "    }\n",
       "</style>\n",
       "<table border=\"1\" class=\"dataframe\">\n",
       "  <thead>\n",
       "    <tr style=\"text-align: right;\">\n",
       "      <th></th>\n",
       "      <th>企业名称</th>\n",
       "      <th>经营状态</th>\n",
       "      <th>法定代表人</th>\n",
       "      <th>注册资本</th>\n",
       "      <th>成立日期</th>\n",
       "      <th>所属省份</th>\n",
       "      <th>所属城市</th>\n",
       "      <th>电话</th>\n",
       "      <th>更多电话</th>\n",
       "      <th>邮箱</th>\n",
       "      <th>统一社会信用代码</th>\n",
       "      <th>纳税人识别号</th>\n",
       "      <th>注册号</th>\n",
       "      <th>组织机构代码</th>\n",
       "      <th>参保人數</th>\n",
       "      <th>企业类型</th>\n",
       "      <th>所属行业</th>\n",
       "      <th>网址</th>\n",
       "      <th>企业地址</th>\n",
       "      <th>经营范围</th>\n",
       "    </tr>\n",
       "  </thead>\n",
       "  <tbody>\n",
       "    <tr>\n",
       "      <th>0</th>\n",
       "      <td>萌萌码（重庆）教育科技有限公司</td>\n",
       "      <td>存续</td>\n",
       "      <td>罗啸</td>\n",
       "      <td>100万元人民币</td>\n",
       "      <td>2018/1/5</td>\n",
       "      <td>重庆</td>\n",
       "      <td>NaN</td>\n",
       "      <td>17388295244</td>\n",
       "      <td>NaN</td>\n",
       "      <td>17388295244@qq.com</td>\n",
       "      <td>91500107MA5YQ61525</td>\n",
       "      <td>91500107MA5YQ61525</td>\n",
       "      <td>5.000000e+14</td>\n",
       "      <td>MA5YQ615-2</td>\n",
       "      <td>2</td>\n",
       "      <td>有限责任公司</td>\n",
       "      <td>NaN</td>\n",
       "      <td>NaN</td>\n",
       "      <td>重庆市九龙坡区杨家坪珠江路48号1幢20-2#</td>\n",
       "      <td>计算机编程咨询;教育科技产品的开发与销售;计算机软硬件的技术开发、技术咨询、技术转让;计算机...</td>\n",
       "    </tr>\n",
       "    <tr>\n",
       "      <th>1</th>\n",
       "      <td>北京童天下教育科技有限公司</td>\n",
       "      <td>在业</td>\n",
       "      <td>郑奎</td>\n",
       "      <td>60.9756万元人民币</td>\n",
       "      <td>2018/3/12</td>\n",
       "      <td>北京</td>\n",
       "      <td>NaN</td>\n",
       "      <td>15811082328</td>\n",
       "      <td>NaN</td>\n",
       "      <td>freemanzk@163.com</td>\n",
       "      <td>91110108MA01AP246J</td>\n",
       "      <td>91110108MA01AP246J</td>\n",
       "      <td>1.100000e+14</td>\n",
       "      <td>MA01AP24-6</td>\n",
       "      <td>1</td>\n",
       "      <td>有限责任公司(自然人投资或控股)</td>\n",
       "      <td>科技推广和应用服务业</td>\n",
       "      <td>www.daerhou.cn</td>\n",
       "      <td>北京市海淀区上地信息路1号(北京实创高科技发展总公司1-1号)A栋6层6464号</td>\n",
       "      <td>技术开发、技术推广、技术转让、技术咨询、技术服务;销售自行开发的产品;计算机系统服务;基础软...</td>\n",
       "    </tr>\n",
       "    <tr>\n",
       "      <th>2</th>\n",
       "      <td>天津五格教育科技有限责任公司</td>\n",
       "      <td>存续</td>\n",
       "      <td>张宇光</td>\n",
       "      <td>100万元人民币</td>\n",
       "      <td>2017/4/1</td>\n",
       "      <td>天津</td>\n",
       "      <td>NaN</td>\n",
       "      <td>13820990621</td>\n",
       "      <td>13920380657；</td>\n",
       "      <td>NaN</td>\n",
       "      <td>91120103MA05PFHB73</td>\n",
       "      <td>91120103MA05PFHB73</td>\n",
       "      <td>1.200000e+14</td>\n",
       "      <td>MA05PFHB-7</td>\n",
       "      <td>4</td>\n",
       "      <td>有限责任公司</td>\n",
       "      <td>科技推广和应用服务业</td>\n",
       "      <td>www.wugedianxia.com</td>\n",
       "      <td>天津市河西区徽州道29号(北方创客体验中心B座)2044</td>\n",
       "      <td>教育软件技术开发、技术咨询、技术转让及技术服务;教育信息咨询;企业管理咨询;组织文化艺术交流...</td>\n",
       "    </tr>\n",
       "    <tr>\n",
       "      <th>3</th>\n",
       "      <td>云南北岭科技有限公司</td>\n",
       "      <td>存续</td>\n",
       "      <td>杨康</td>\n",
       "      <td>100万元人民币</td>\n",
       "      <td>2018/4/24</td>\n",
       "      <td>云南</td>\n",
       "      <td>昆明市</td>\n",
       "      <td>13529201202</td>\n",
       "      <td>NaN</td>\n",
       "      <td>614495077@qq.com</td>\n",
       "      <td>91530102MA6N46WHX9</td>\n",
       "      <td>91530102MA6N46WHX9</td>\n",
       "      <td>NaN</td>\n",
       "      <td>MA6N46WH-X</td>\n",
       "      <td>0</td>\n",
       "      <td>有限责任公司(自然人投资或控股)</td>\n",
       "      <td>零售业</td>\n",
       "      <td>www.edukings.cn</td>\n",
       "      <td>云南省昆明市五华区红云街道国福现代城荷花苑1栋1506室</td>\n",
       "      <td>计算机软硬件的开发及应用;信息系统集成服务;承办会议及商品的展览展示活动;组织文化艺术交流活...</td>\n",
       "    </tr>\n",
       "    <tr>\n",
       "      <th>4</th>\n",
       "      <td>镇安猫爪信息技术有限公司</td>\n",
       "      <td>在业</td>\n",
       "      <td>王林久</td>\n",
       "      <td>10万元人民币</td>\n",
       "      <td>2015/12/4</td>\n",
       "      <td>陕西</td>\n",
       "      <td>商洛市</td>\n",
       "      <td>13720655098</td>\n",
       "      <td>NaN</td>\n",
       "      <td>support@kidscode.cn</td>\n",
       "      <td>91611025MA70T0NQ7N</td>\n",
       "      <td>91611025MA70T0NQ7N</td>\n",
       "      <td>6.130000e+14</td>\n",
       "      <td>MA70T0NQ-7</td>\n",
       "      <td>0</td>\n",
       "      <td>有限责任公司(自然人独资)</td>\n",
       "      <td>软件和信息技术服务业</td>\n",
       "      <td>NaN</td>\n",
       "      <td>陕西省商洛市镇安县永乐街道办新城社区岭南路113号3层</td>\n",
       "      <td>计算机软件开发、销售;网站、网页设计、制作;数据统计分析;信息系统集成服务及维护;信息技术咨...</td>\n",
       "    </tr>\n",
       "  </tbody>\n",
       "</table>\n",
       "</div>"
      ],
      "text/plain": [
       "              企业名称 经营状态 法定代表人          注册资本       成立日期 所属省份 所属城市           电话  \\\n",
       "0  萌萌码（重庆）教育科技有限公司   存续    罗啸      100万元人民币   2018/1/5   重庆  NaN  17388295244   \n",
       "1    北京童天下教育科技有限公司   在业    郑奎  60.9756万元人民币  2018/3/12   北京  NaN  15811082328   \n",
       "2   天津五格教育科技有限责任公司   存续   张宇光      100万元人民币   2017/4/1   天津  NaN  13820990621   \n",
       "3       云南北岭科技有限公司   存续    杨康      100万元人民币  2018/4/24   云南  昆明市  13529201202   \n",
       "4     镇安猫爪信息技术有限公司   在业   王林久       10万元人民币  2015/12/4   陕西  商洛市  13720655098   \n",
       "\n",
       "           更多电话                   邮箱            统一社会信用代码              纳税人识别号  \\\n",
       "0           NaN   17388295244@qq.com  91500107MA5YQ61525  91500107MA5YQ61525   \n",
       "1           NaN    freemanzk@163.com  91110108MA01AP246J  91110108MA01AP246J   \n",
       "2  13920380657；                  NaN  91120103MA05PFHB73  91120103MA05PFHB73   \n",
       "3           NaN     614495077@qq.com  91530102MA6N46WHX9  91530102MA6N46WHX9   \n",
       "4           NaN  support@kidscode.cn  91611025MA70T0NQ7N  91611025MA70T0NQ7N   \n",
       "\n",
       "            注册号      组织机构代码  参保人數              企业类型        所属行业  \\\n",
       "0  5.000000e+14  MA5YQ615-2     2            有限责任公司         NaN   \n",
       "1  1.100000e+14  MA01AP24-6     1  有限责任公司(自然人投资或控股)  科技推广和应用服务业   \n",
       "2  1.200000e+14  MA05PFHB-7     4            有限责任公司  科技推广和应用服务业   \n",
       "3           NaN  MA6N46WH-X     0  有限责任公司(自然人投资或控股)         零售业   \n",
       "4  6.130000e+14  MA70T0NQ-7     0     有限责任公司(自然人独资)  软件和信息技术服务业   \n",
       "\n",
       "                    网址                                      企业地址  \\\n",
       "0                  NaN                   重庆市九龙坡区杨家坪珠江路48号1幢20-2#   \n",
       "1       www.daerhou.cn  北京市海淀区上地信息路1号(北京实创高科技发展总公司1-1号)A栋6层6464号   \n",
       "2  www.wugedianxia.com              天津市河西区徽州道29号(北方创客体验中心B座)2044   \n",
       "3      www.edukings.cn              云南省昆明市五华区红云街道国福现代城荷花苑1栋1506室   \n",
       "4                  NaN               陕西省商洛市镇安县永乐街道办新城社区岭南路113号3层   \n",
       "\n",
       "                                                经营范围  \n",
       "0  计算机编程咨询;教育科技产品的开发与销售;计算机软硬件的技术开发、技术咨询、技术转让;计算机...  \n",
       "1  技术开发、技术推广、技术转让、技术咨询、技术服务;销售自行开发的产品;计算机系统服务;基础软...  \n",
       "2  教育软件技术开发、技术咨询、技术转让及技术服务;教育信息咨询;企业管理咨询;组织文化艺术交流...  \n",
       "3  计算机软硬件的开发及应用;信息系统集成服务;承办会议及商品的展览展示活动;组织文化艺术交流活...  \n",
       "4  计算机软件开发、销售;网站、网页设计、制作;数据统计分析;信息系统集成服务及维护;信息技术咨...  "
      ]
     },
     "execution_count": 8,
     "metadata": {},
     "output_type": "execute_result"
    }
   ],
   "source": [
    "df = pd.read_csv('../data/comm7330_group_company.csv',encoding='GBK')\n",
    "df.head()\n"
   ]
  },
  {
   "cell_type": "code",
   "execution_count": 9,
   "metadata": {},
   "outputs": [
    {
     "data": {
      "text/plain": [
       "(401, 20)"
      ]
     },
     "execution_count": 9,
     "metadata": {},
     "output_type": "execute_result"
    }
   ],
   "source": [
    "df.shape"
   ]
  },
  {
   "cell_type": "code",
   "execution_count": 10,
   "metadata": {},
   "outputs": [
    {
     "name": "stdout",
     "output_type": "stream",
     "text": [
      "<class 'pandas.core.frame.DataFrame'>\n",
      "RangeIndex: 401 entries, 0 to 400\n",
      "Data columns (total 20 columns):\n",
      "企业名称        401 non-null object\n",
      "经营状态        401 non-null object\n",
      "法定代表人       400 non-null object\n",
      "注册资本        357 non-null object\n",
      "成立日期        401 non-null object\n",
      "所属省份        401 non-null object\n",
      "所属城市        356 non-null object\n",
      "电话          162 non-null object\n",
      "更多电话        50 non-null object\n",
      "邮箱          117 non-null object\n",
      "统一社会信用代码    401 non-null object\n",
      "纳税人识别号      401 non-null object\n",
      "注册号         150 non-null float64\n",
      "组织机构代码      393 non-null object\n",
      "参保人數        401 non-null int64\n",
      "企业类型        401 non-null object\n",
      "所属行业        357 non-null object\n",
      "网址          97 non-null object\n",
      "企业地址        401 non-null object\n",
      "经营范围        401 non-null object\n",
      "dtypes: float64(1), int64(1), object(18)\n",
      "memory usage: 62.7+ KB\n"
     ]
    }
   ],
   "source": [
    "df.info()"
   ]
  },
  {
   "cell_type": "code",
   "execution_count": 11,
   "metadata": {},
   "outputs": [],
   "source": [
    "#给省份赋值，方便用数值做统计。\n",
    "df['省份赋值'] = 1"
   ]
  },
  {
   "cell_type": "code",
   "execution_count": 12,
   "metadata": {
    "scrolled": false
   },
   "outputs": [
    {
     "data": {
      "text/plain": [
       "Index(['企业名称', '经营状态', '法定代表人', '注册资本', '成立日期', '所属省份', '所属城市', '电话', '更多电话',\n",
       "       '邮箱', '统一社会信用代码', '纳税人识别号', '注册号', '组织机构代码', '参保人數', '企业类型', '所属行业',\n",
       "       '网址', '企业地址', '经营范围', '省份赋值'],\n",
       "      dtype='object')"
      ]
     },
     "execution_count": 12,
     "metadata": {},
     "output_type": "execute_result"
    }
   ],
   "source": [
    "df.columns"
   ]
  },
  {
   "cell_type": "code",
   "execution_count": 13,
   "metadata": {},
   "outputs": [],
   "source": [
    "to_drop = ['法定代表人', '注册资本', '成立日期','所属城市','电话',\n",
    "       '更多电话', '邮箱', '统一社会信用代码', '纳税人识别号', '注册号', '组织机构代码', '参保人數', '企业类型',\n",
    "       '所属行业', '网址','企业地址']\n",
    "\n",
    "df.drop(to_drop, inplace=True, axis=1)"
   ]
  },
  {
   "cell_type": "code",
   "execution_count": 14,
   "metadata": {},
   "outputs": [
    {
     "data": {
      "text/plain": [
       "Index(['企业名称', '经营状态', '所属省份', '经营范围', '省份赋值'], dtype='object')"
      ]
     },
     "execution_count": 14,
     "metadata": {},
     "output_type": "execute_result"
    }
   ],
   "source": [
    "df.columns"
   ]
  },
  {
   "cell_type": "code",
   "execution_count": 15,
   "metadata": {
    "scrolled": true
   },
   "outputs": [
    {
     "data": {
      "text/html": [
       "<div>\n",
       "<style scoped>\n",
       "    .dataframe tbody tr th:only-of-type {\n",
       "        vertical-align: middle;\n",
       "    }\n",
       "\n",
       "    .dataframe tbody tr th {\n",
       "        vertical-align: top;\n",
       "    }\n",
       "\n",
       "    .dataframe thead th {\n",
       "        text-align: right;\n",
       "    }\n",
       "</style>\n",
       "<table border=\"1\" class=\"dataframe\">\n",
       "  <thead>\n",
       "    <tr style=\"text-align: right;\">\n",
       "      <th></th>\n",
       "      <th>企业名称</th>\n",
       "      <th>经营状态</th>\n",
       "      <th>所属省份</th>\n",
       "      <th>经营范围</th>\n",
       "      <th>省份赋值</th>\n",
       "    </tr>\n",
       "  </thead>\n",
       "  <tbody>\n",
       "    <tr>\n",
       "      <th>0</th>\n",
       "      <td>萌萌码（重庆）教育科技有限公司</td>\n",
       "      <td>存续</td>\n",
       "      <td>重庆</td>\n",
       "      <td>计算机编程咨询;教育科技产品的开发与销售;计算机软硬件的技术开发、技术咨询、技术转让;计算机...</td>\n",
       "      <td>1</td>\n",
       "    </tr>\n",
       "    <tr>\n",
       "      <th>1</th>\n",
       "      <td>北京童天下教育科技有限公司</td>\n",
       "      <td>在业</td>\n",
       "      <td>北京</td>\n",
       "      <td>技术开发、技术推广、技术转让、技术咨询、技术服务;销售自行开发的产品;计算机系统服务;基础软...</td>\n",
       "      <td>1</td>\n",
       "    </tr>\n",
       "    <tr>\n",
       "      <th>2</th>\n",
       "      <td>天津五格教育科技有限责任公司</td>\n",
       "      <td>存续</td>\n",
       "      <td>天津</td>\n",
       "      <td>教育软件技术开发、技术咨询、技术转让及技术服务;教育信息咨询;企业管理咨询;组织文化艺术交流...</td>\n",
       "      <td>1</td>\n",
       "    </tr>\n",
       "    <tr>\n",
       "      <th>3</th>\n",
       "      <td>云南北岭科技有限公司</td>\n",
       "      <td>存续</td>\n",
       "      <td>云南</td>\n",
       "      <td>计算机软硬件的开发及应用;信息系统集成服务;承办会议及商品的展览展示活动;组织文化艺术交流活...</td>\n",
       "      <td>1</td>\n",
       "    </tr>\n",
       "    <tr>\n",
       "      <th>4</th>\n",
       "      <td>镇安猫爪信息技术有限公司</td>\n",
       "      <td>在业</td>\n",
       "      <td>陕西</td>\n",
       "      <td>计算机软件开发、销售;网站、网页设计、制作;数据统计分析;信息系统集成服务及维护;信息技术咨...</td>\n",
       "      <td>1</td>\n",
       "    </tr>\n",
       "  </tbody>\n",
       "</table>\n",
       "</div>"
      ],
      "text/plain": [
       "              企业名称 经营状态 所属省份  \\\n",
       "0  萌萌码（重庆）教育科技有限公司   存续   重庆   \n",
       "1    北京童天下教育科技有限公司   在业   北京   \n",
       "2   天津五格教育科技有限责任公司   存续   天津   \n",
       "3       云南北岭科技有限公司   存续   云南   \n",
       "4     镇安猫爪信息技术有限公司   在业   陕西   \n",
       "\n",
       "                                                经营范围  省份赋值  \n",
       "0  计算机编程咨询;教育科技产品的开发与销售;计算机软硬件的技术开发、技术咨询、技术转让;计算机...     1  \n",
       "1  技术开发、技术推广、技术转让、技术咨询、技术服务;销售自行开发的产品;计算机系统服务;基础软...     1  \n",
       "2  教育软件技术开发、技术咨询、技术转让及技术服务;教育信息咨询;企业管理咨询;组织文化艺术交流...     1  \n",
       "3  计算机软硬件的开发及应用;信息系统集成服务;承办会议及商品的展览展示活动;组织文化艺术交流活...     1  \n",
       "4  计算机软件开发、销售;网站、网页设计、制作;数据统计分析;信息系统集成服务及维护;信息技术咨...     1  "
      ]
     },
     "execution_count": 15,
     "metadata": {},
     "output_type": "execute_result"
    }
   ],
   "source": [
    "#删去“注销”和“迁出”企业\n",
    "enterprise_amount = df.loc[(df[\"经营状态\"] != \"注销\") & (df[\"经营状态\"] != \"迁出\"), [\"企业名称\", \"经营状态\" , \"所属省份\", \"经营范围\",\"省份赋值\"]]\n",
    "enterprise_amount.head()"
   ]
  },
  {
   "cell_type": "code",
   "execution_count": 16,
   "metadata": {},
   "outputs": [],
   "source": [
    "enterprise_amount.to_csv('../data/cleaned_compc.csv',encoding='GBK')"
   ]
  },
  {
   "cell_type": "code",
   "execution_count": 17,
   "metadata": {},
   "outputs": [
    {
     "data": {
      "text/plain": [
       "(392, 5)"
      ]
     },
     "execution_count": 17,
     "metadata": {},
     "output_type": "execute_result"
    }
   ],
   "source": [
    "enterprise_amount.shape"
   ]
  },
  {
   "cell_type": "code",
   "execution_count": 12,
   "metadata": {
    "scrolled": true
   },
   "outputs": [
    {
     "data": {
      "text/plain": [
       "所属省份\n",
       "广东    78\n",
       "浙江    77\n",
       "江苏    31\n",
       "安徽    24\n",
       "上海    19\n",
       "Name: 省份赋值, dtype: int64"
      ]
     },
     "execution_count": 12,
     "metadata": {},
     "output_type": "execute_result"
    }
   ],
   "source": [
    "\n",
    "summarized_enterprise = enterprise_amount.groupby(by = '所属省份')['省份赋值'].sum()\n",
    "summarized_enterprise.sort_values(ascending=False, inplace = True)\n",
    "summarized_enterprise.head()\n"
   ]
  },
  {
   "cell_type": "code",
   "execution_count": 22,
   "metadata": {
    "scrolled": false
   },
   "outputs": [
    {
     "data": {
      "image/png": "[encoded data removed]",
      "text/plain": [
       "<Figure size 648x468 with 1 Axes>"
      ]
     },
     "metadata": {},
     "output_type": "display_data"
    }
   ],
   "source": [
    "sns.set_style(\"whitegrid\")\n",
    "plt.rcParams['font.sans-serif']=['SimHei']\n",
    "summarized_enterprise.plot(kind = 'barh', rot = 0, fontsize =8, sharex = False, sharey = True,color = 'skyblue',legend = False,figsize=(9,6.5))\n",
    "plt.xlabel('企业数量', fontsize =10,)\n",
    "plt.title('全国各省“少儿编程”企业数量分布', fontsize =13)\n",
    "plt.gca().invert_yaxis()\n",
    "plt.savefig('./comp.jpg')\n",
    "plt.show() \n"
   ]
  },
  {
   "cell_type": "code",
   "execution_count": null,
   "metadata": {},
   "outputs": [],
   "source": []
  }
 ],
 "metadata": {
  "kernelspec": {
   "display_name": "Python 3",
   "language": "python",
   "name": "python3"
  },
  "language_info": {
   "codemirror_mode": {
    "name": "ipython",
    "version": 3
   },
   "file_extension": ".py",
   "mimetype": "text/x-python",
   "name": "python",
   "nbconvert_exporter": "python",
   "pygments_lexer": "ipython3",
   "version": "3.7.3"
  }
 },
 "nbformat": 4,
 "nbformat_minor": 2
}
